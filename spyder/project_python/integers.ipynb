{
 "cells": [
  {
   "cell_type": "markdown",
   "id": "c7205f65",
   "metadata": {},
   "source": [
    "# This is my jupitor notebook\n",
    "## Program to print 10 numbers\n",
    "\n",
    "* bullet point 1\n",
    "* bullet point 2\n"
   ]
  },
  {
   "cell_type": "code",
   "execution_count": 7,
   "id": "70c1d8f5",
   "metadata": {},
   "outputs": [
    {
     "name": "stdout",
     "output_type": "stream",
     "text": [
      "1\n",
      "2\n",
      "3\n",
      "4\n",
      "5\n",
      "6\n",
      "7\n",
      "8\n",
      "9\n",
      "10\n",
      "Loop ends here\n"
     ]
    }
   ],
   "source": [
    "# comment section\n",
    "# used loop for printing \n",
    "\n",
    "for i in range(1,11):\n",
    "    print(i)\n",
    "    \n",
    "print(\"Loop ends here\")"
   ]
  },
  {
   "cell_type": "code",
   "execution_count": null,
   "id": "3735dc38",
   "metadata": {},
   "outputs": [],
   "source": []
  },
  {
   "cell_type": "code",
   "execution_count": 2,
   "id": "cea2561d",
   "metadata": {},
   "outputs": [
    {
     "name": "stdout",
     "output_type": "stream",
     "text": [
      "Thank you so much\n"
     ]
    }
   ],
   "source": [
    "print(\"Thank you so much\")"
   ]
  },
  {
   "cell_type": "code",
   "execution_count": null,
   "id": "7d361c3e",
   "metadata": {},
   "outputs": [],
   "source": []
  }
 ],
 "metadata": {
  "kernelspec": {
   "display_name": "Python 3",
   "language": "python",
   "name": "python3"
  },
  "language_info": {
   "codemirror_mode": {
    "name": "ipython",
    "version": 3
   },
   "file_extension": ".py",
   "mimetype": "text/x-python",
   "name": "python",
   "nbconvert_exporter": "python",
   "pygments_lexer": "ipython3",
   "version": "3.8.8"
  }
 },
 "nbformat": 4,
 "nbformat_minor": 5
}
